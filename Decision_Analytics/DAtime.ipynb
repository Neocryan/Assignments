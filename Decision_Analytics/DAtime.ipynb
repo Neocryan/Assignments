{
 "cells": [
  {
   "cell_type": "code",
   "execution_count": 1,
   "metadata": {},
   "outputs": [],
   "source": [
    "from DAtime import *"
   ]
  },
  {
   "cell_type": "code",
   "execution_count": 2,
   "metadata": {},
   "outputs": [],
   "source": [
    "# you may want to change the time csv\n",
    "t,PI,D = makedata('time.csv')\n",
    "end = t.shape[0] - 1\n",
    "start = 0"
   ]
  },
  {
   "cell_type": "code",
   "execution_count": 13,
   "metadata": {},
   "outputs": [
    {
     "data": {
      "text/plain": [
       "{0: (0, 0),\n",
       " 1: (0.0, 90.0),\n",
       " 2: (0.0, 15.0),\n",
       " 3: (0.0, 40.0),\n",
       " 4: (0.0, 10.0),\n",
       " 5: (30.0, 55.0),\n",
       " 6: (10.0, 35.0),\n",
       " 7: (55.0, 65.0),\n",
       " 8: (55.0, 80.0),\n",
       " 9: (65.0, 95.0),\n",
       " 10: (80.0, 90.0),\n",
       " 11: (90.0, 100.0),\n",
       " 12: (100.0, 100.0)}"
      ]
     },
     "execution_count": 13,
     "metadata": {},
     "output_type": "execute_result"
    }
   ],
   "source": [
    "es = cal_es(start,end,PI,D)\n",
    "es\n",
    "\n"
   ]
  },
  {
   "cell_type": "code",
   "execution_count": 14,
   "metadata": {},
   "outputs": [
    {
     "data": {
      "text/plain": [
       "{0: (0.0, 0.0),\n",
       " 1: (0.0, 90.0),\n",
       " 2: (15.0, 30.0),\n",
       " 3: (20.0, 60.0),\n",
       " 4: (20.0, 30.0),\n",
       " 5: (30.0, 55.0),\n",
       " 6: (30.0, 55.0),\n",
       " 7: (60.0, 70.0),\n",
       " 8: (55.0, 80.0),\n",
       " 9: (70.0, 100.0),\n",
       " 10: (80.0, 90.0),\n",
       " 11: (90.0, 100.0),\n",
       " 12: (100.0, 100.0)}"
      ]
     },
     "execution_count": 14,
     "metadata": {},
     "output_type": "execute_result"
    }
   ],
   "source": [
    "ls = cal_ls(es)\n",
    "ls"
   ]
  },
  {
   "cell_type": "code",
   "execution_count": 18,
   "metadata": {},
   "outputs": [
    {
     "data": {
      "text/plain": [
       "[0, 1, 5, 8, 10, 11, 12]"
      ]
     },
     "execution_count": 18,
     "metadata": {},
     "output_type": "execute_result"
    }
   ],
   "source": [
    "cal_cri_path(es,ls)"
   ]
  },
  {
   "cell_type": "code",
   "execution_count": 19,
   "metadata": {},
   "outputs": [
    {
     "data": {
      "text/plain": [
       "{0: 0.0,\n",
       " 1: 0.0,\n",
       " 2: 15.0,\n",
       " 3: 20.0,\n",
       " 4: 20.0,\n",
       " 5: 0.0,\n",
       " 6: 20.0,\n",
       " 7: 5.0,\n",
       " 8: 0.0,\n",
       " 9: 5.0,\n",
       " 10: 0.0,\n",
       " 11: 0.0,\n",
       " 12: 0.0}"
      ]
     },
     "execution_count": 19,
     "metadata": {},
     "output_type": "execute_result"
    }
   ],
   "source": [
    "total_slack(es,ls)"
   ]
  },
  {
   "cell_type": "code",
   "execution_count": 20,
   "metadata": {},
   "outputs": [
    {
     "data": {
      "text/plain": [
       "{0: 0.0,\n",
       " 1: 0.0,\n",
       " 2: 0.0,\n",
       " 3: 0.0,\n",
       " 4: 0.0,\n",
       " 5: 0.0,\n",
       " 6: 0.0,\n",
       " 7: 0.0,\n",
       " 8: 0.0,\n",
       " 9: 0.0,\n",
       " 10: 0.0,\n",
       " 11: 0.0}"
      ]
     },
     "execution_count": 20,
     "metadata": {},
     "output_type": "execute_result"
    }
   ],
   "source": [
    "free_slack(ls)"
   ]
  }
 ],
 "metadata": {
  "kernelspec": {
   "display_name": "Python 3",
   "language": "python",
   "name": "python3"
  },
  "language_info": {
   "codemirror_mode": {
    "name": "ipython",
    "version": 3
   },
   "file_extension": ".py",
   "mimetype": "text/x-python",
   "name": "python",
   "nbconvert_exporter": "python",
   "pygments_lexer": "ipython3",
   "version": "3.6.4"
  }
 },
 "nbformat": 4,
 "nbformat_minor": 2
}
